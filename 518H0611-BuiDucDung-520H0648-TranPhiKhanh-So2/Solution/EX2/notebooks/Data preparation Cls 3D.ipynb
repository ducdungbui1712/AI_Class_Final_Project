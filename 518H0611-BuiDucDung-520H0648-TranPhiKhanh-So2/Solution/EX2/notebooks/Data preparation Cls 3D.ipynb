{
 "cells": [
  {
   "cell_type": "code",
   "execution_count": null,
   "metadata": {},
   "outputs": [],
   "source": [
    "%load_ext autoreload\n",
    "%autoreload 2"
   ]
  },
  {
   "cell_type": "code",
   "execution_count": null,
   "metadata": {},
   "outputs": [],
   "source": [
    "cd ../src/"
   ]
  },
  {
   "cell_type": "markdown",
   "metadata": {},
   "source": [
    "## Imports"
   ]
  },
  {
   "cell_type": "code",
   "execution_count": null,
   "metadata": {},
   "outputs": [],
   "source": [
    "import os\n",
    "import re\n",
    "import cv2\n",
    "import time\n",
    "import joblib\n",
    "import imageio\n",
    "import numpy as np\n",
    "import pandas as pd\n",
    "import matplotlib.pyplot as plt\n",
    "\n",
    "from tqdm.notebook import tqdm\n",
    "from collections import Counter\n",
    "from skimage.transform import resize"
   ]
  },
  {
   "cell_type": "code",
   "execution_count": null,
   "metadata": {},
   "outputs": [],
   "source": [
    "from params import *\n",
    "from data.preparation import crop_helmets"
   ]
  },
  {
   "cell_type": "markdown",
   "metadata": {},
   "source": [
    "## Data"
   ]
  },
  {
   "cell_type": "code",
   "execution_count": null,
   "metadata": {},
   "outputs": [],
   "source": [
    "df = pd.read_csv(DATA_PATH + 'df_train.csv')"
   ]
  },
  {
   "cell_type": "code",
   "execution_count": null,
   "metadata": {},
   "outputs": [],
   "source": [
    "if \"nb_frame\" not in df.columns:\n",
    "    df_max_frame = df[['video', 'frame']].groupby('video').max().rename(columns={\"frame\": \"nb_frame\"}).reset_index()\n",
    "    df = df.merge(df_max_frame, on=\"video\")"
   ]
  },
  {
   "cell_type": "markdown",
   "metadata": {},
   "source": [
    "## Labels"
   ]
  },
  {
   "cell_type": "code",
   "execution_count": null,
   "metadata": {},
   "outputs": [],
   "source": [
    "EXTENDED = [- i for i in range(1, STRIDE * (N_FRAMES // 2) + 1)][::-1] + [i for i in range(1, STRIDE * (N_FRAMES // 2) + 1)]\n",
    "EXTENDED = np.array(EXTENDED)[MARGIN * STRIDE : - MARGIN * STRIDE]\n",
    "EXTENDED"
   ]
  },
  {
   "cell_type": "code",
   "execution_count": null,
   "metadata": {},
   "outputs": [],
   "source": [
    "if f'impact_{STRIDE}_{N_FRAMES}' not in df.columns:\n",
    "    df[f'impact_{STRIDE}_{N_FRAMES}'] = df['impact']\n",
    "    df_with_impact = df[df['impact'] > 0]\n",
    "\n",
    "    for row in tqdm(df_with_impact[['video', 'frame', 'label']].values):\n",
    "        frames = EXTENDED + row[1]\n",
    "        df.loc[\n",
    "            (df['video'] == row[0]) & \n",
    "            (df['frame'].isin(frames))& \n",
    "            (df['label'] == row[2]),\n",
    "            f'impact_{STRIDE}_{N_FRAMES}'\n",
    "        ] = 1"
   ]
  },
  {
   "cell_type": "code",
   "execution_count": null,
   "metadata": {},
   "outputs": [],
   "source": [
    "# df.to_csv(DATA_PATH + 'df_train_3d.csv', index=False)"
   ]
  },
  {
   "cell_type": "markdown",
   "metadata": {},
   "source": [
    "## Functions"
   ]
  },
  {
   "cell_type": "markdown",
   "metadata": {},
   "source": [
    "## Main"
   ]
  },
  {
   "cell_type": "code",
   "execution_count": null,
   "metadata": {
    "scrolled": true
   },
   "outputs": [],
   "source": [
    "crop_names = []\n",
    "for img in tqdm(df['image_name'].unique()):\n",
    "    names = crop_helmets(\n",
    "        img,\n",
    "        df,\n",
    "        root=IMG_PATH_F,\n",
    "        out_dir=CROP_PATH_3D,\n",
    "    )\n",
    "    \n",
    "    crop_names += names\n",
    "    \n",
    "#     break"
   ]
  },
  {
   "cell_type": "code",
   "execution_count": null,
   "metadata": {},
   "outputs": [],
   "source": [
    "crop_names[-10:]"
   ]
  },
  {
   "cell_type": "code",
   "execution_count": null,
   "metadata": {},
   "outputs": [],
   "source": [
    "df['crop_name'] = crop_names"
   ]
  },
  {
   "cell_type": "code",
   "execution_count": null,
   "metadata": {},
   "outputs": [],
   "source": [
    "df.to_csv(DATA_PATH + 'df_train_3d.csv', index=False)"
   ]
  }
 ],
 "metadata": {
  "kernelspec": {
   "display_name": "venv",
   "language": "python",
   "name": "venv"
  },
  "language_info": {
   "codemirror_mode": {
    "name": "ipython",
    "version": 3
   },
   "file_extension": ".py",
   "mimetype": "text/x-python",
   "name": "python",
   "nbconvert_exporter": "python",
   "pygments_lexer": "ipython3",
   "version": "3.8.6"
  }
 },
 "nbformat": 4,
 "nbformat_minor": 4
}
