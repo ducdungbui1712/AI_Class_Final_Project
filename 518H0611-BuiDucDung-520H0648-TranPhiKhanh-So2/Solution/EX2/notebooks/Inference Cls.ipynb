{
 "cells": [
  {
   "cell_type": "code",
   "execution_count": null,
   "metadata": {},
   "outputs": [],
   "source": [
    "%load_ext autoreload\n",
    "%autoreload 2"
   ]
  },
  {
   "cell_type": "code",
   "execution_count": null,
   "metadata": {},
   "outputs": [],
   "source": [
    "cd ../src/"
   ]
  },
  {
   "cell_type": "markdown",
   "metadata": {},
   "source": [
    "## Imports"
   ]
  },
  {
   "cell_type": "code",
   "execution_count": null,
   "metadata": {},
   "outputs": [],
   "source": [
    "import os\n",
    "import re\n",
    "import cv2\n",
    "import time\n",
    "import json\n",
    "import torch\n",
    "import imageio\n",
    "import numpy as np\n",
    "import pandas as pd\n",
    "import seaborn as sns\n",
    "import matplotlib.pyplot as plt\n",
    "\n",
    "from collections import Counter\n",
    "from tqdm.notebook import tqdm\n",
    "from skimage.transform import resize\n",
    "\n",
    "from sklearn.metrics import roc_auc_score, f1_score"
   ]
  },
  {
   "cell_type": "code",
   "execution_count": null,
   "metadata": {},
   "outputs": [],
   "source": [
    "from params import *\n",
    "from utils.metrics import boxes_f1_score, precision_calc, get_boxes_from_df"
   ]
  },
  {
   "cell_type": "markdown",
   "metadata": {},
   "source": [
    "## Load"
   ]
  },
  {
   "cell_type": "code",
   "execution_count": null,
   "metadata": {},
   "outputs": [],
   "source": [
    "df_train = pd.read_csv(DATA_PATH + 'df_train.csv')\n",
    "folds = pd.read_csv(OUT_DIR + \"folds.csv\")\n",
    "df_train = df_train.merge(folds, on=\"video\")\n",
    "df_train['truth'] = (df_train['impact'] == 1) & (df_train['confidence'] > 1) & (df_train['visibility'] > 0) \n",
    "\n",
    "\n",
    "df_val = df_train[df_train[\"val_idx\"] == 0]"
   ]
  },
  {
   "cell_type": "code",
   "execution_count": null,
   "metadata": {},
   "outputs": [],
   "source": [
    "videos = df_val['video'].unique()"
   ]
  },
  {
   "cell_type": "code",
   "execution_count": null,
   "metadata": {},
   "outputs": [],
   "source": [
    "PREDS_PATH = OUT_DIR + '22_12/'\n",
    "epoch = 9\n",
    "preds = pd.read_csv(PREDS_PATH + f\"pred_0_fold_epoch_{epoch}_score_001_aug.csv\")"
   ]
  },
  {
   "cell_type": "code",
   "execution_count": null,
   "metadata": {},
   "outputs": [],
   "source": [
    "preds = preds[preds['pred'] > 0.1].reset_index(drop=True)"
   ]
  },
  {
   "cell_type": "code",
   "execution_count": null,
   "metadata": {},
   "outputs": [],
   "source": [
    "df_pred = preds.copy()\n",
    "# df_pred = pd.read_csv('../output/df_preds.csv')"
   ]
  },
  {
   "cell_type": "markdown",
   "metadata": {},
   "source": [
    "# Classifier 3D inference"
   ]
  },
  {
   "cell_type": "code",
   "execution_count": null,
   "metadata": {},
   "outputs": [],
   "source": [
    "from inference.classifier_3d import *"
   ]
  },
  {
   "cell_type": "markdown",
   "metadata": {},
   "source": [
    "### Data"
   ]
  },
  {
   "cell_type": "code",
   "execution_count": null,
   "metadata": {},
   "outputs": [],
   "source": [
    "if \"nb_frame\" not in df_pred.columns:\n",
    "    df_max_frame = df_pred[['video', 'frame']].groupby('video').max().rename(columns={\"frame\": \"nb_frame\"}).reset_index()\n",
    "    df_pred = df_pred.merge(df_max_frame, on=\"video\")"
   ]
  },
  {
   "cell_type": "code",
   "execution_count": null,
   "metadata": {},
   "outputs": [],
   "source": [
    "df_pred_vid = df_pred[df_pred[\"video\"] == df_pred['video'].unique()[1]]\n",
    "\n",
    "dataset = NFLDatasetClsInference3D(\n",
    "    df_pred_vid,\n",
    "    visualize=True,\n",
    "    stride=2,\n",
    "    n_frames=9,\n",
    "    root=IMG_PATH_F,\n",
    ")"
   ]
  },
  {
   "cell_type": "markdown",
   "metadata": {},
   "source": [
    "### Main"
   ]
  },
  {
   "cell_type": "code",
   "execution_count": null,
   "metadata": {},
   "outputs": [],
   "source": [
    "images = df_pred[\"image_name\"].unique()"
   ]
  },
  {
   "cell_type": "code",
   "execution_count": null,
   "metadata": {},
   "outputs": [],
   "source": [
    "# Where to load weights from\n",
    "CP_FOLDER = \"../logs_cls_3d/2021-01-02/13/\"\n",
    "\n",
    "# Models to use\n",
    "configs = { \n",
    "    \"slowonly\": {\n",
    "        \"name\": \"slowonly\",\n",
    "        \"num_classes\": 1,\n",
    "        \"num_classes_aux\": 0,\n",
    "        \"k\": 5,\n",
    "        \"stride\": 2,\n",
    "        \"num_frames\": 9\n",
    "    },\n",
    "}"
   ]
  },
  {
   "cell_type": "code",
   "execution_count": null,
   "metadata": {},
   "outputs": [],
   "source": [
    "models = []\n",
    "\n",
    "\n",
    "for model in configs:\n",
    "    models += [retrieve_model(configs[model], fold=0, log_folder=CP_FOLDER)]\n",
    "    \n",
    "    \n",
    "preds = []\n",
    "for vid in tqdm(df_pred['video'].unique()):\n",
    "    df_pred_vid = df_pred[df_pred[\"video\"] == vid]\n",
    "\n",
    "    pred = inference(df_pred_vid, models, root=IMG_PATH_F, stride=2, n_frames=9, batch_size=128)\n",
    "    preds.append(pred)\n",
    "    \n",
    "df_pred['pred_cls_3d'] = np.concatenate(preds)"
   ]
  },
  {
   "cell_type": "code",
   "execution_count": null,
   "metadata": {},
   "outputs": [],
   "source": [
    "df_pred.to_csv('../output/df_preds.csv', index=False)"
   ]
  },
  {
   "cell_type": "markdown",
   "metadata": {},
   "source": [
    "# Post-processing"
   ]
  },
  {
   "cell_type": "code",
   "execution_count": null,
   "metadata": {},
   "outputs": [],
   "source": [
    "from post_processing.adjacency import post_process_adjacency\n",
    "from post_processing.expansion import expand_boxes\n",
    "from post_processing.view import post_process_view"
   ]
  },
  {
   "cell_type": "code",
   "execution_count": null,
   "metadata": {},
   "outputs": [],
   "source": [
    "df_pred = pd.read_csv('../output/df_preds.csv')"
   ]
  },
  {
   "cell_type": "code",
   "execution_count": null,
   "metadata": {},
   "outputs": [],
   "source": [
    "df_pred['scores'] = df_pred['pred']"
   ]
  },
  {
   "cell_type": "code",
   "execution_count": null,
   "metadata": {},
   "outputs": [],
   "source": [
    "# Blend weights \n",
    "\n",
    "weights = {\n",
    "    'pred_cls_3d_29_6': 0.25,   # r18 ext\n",
    "    'pred_cls_3d_30_1': 0.25,   # r34\n",
    "    'pred_cls_3d_30_0': 0.25,   # r18\n",
    "    'pred_cls_3d_30_3': 0.25,   # r18 aux\n",
    "    'pred_cls_3d_02_5': 0.66,   # i3d\n",
    "    'pred_cls_3d_02_7': 0.66,   # slowfast\n",
    "    'pred_cls_3d_02_13': 0.66,  # slowonly\n",
    "}"
   ]
  },
  {
   "cell_type": "code",
   "execution_count": null,
   "metadata": {},
   "outputs": [],
   "source": [
    "df_pred['pred_cls_blend'] = 0\n",
    "\n",
    "for col in weights:\n",
    "    df_pred['pred_cls_blend'] += df_pred[col] * weights[col]\n",
    "    \n",
    "df_pred['pred_cls_blend'] /= np.sum(list(weights.values()))"
   ]
  },
  {
   "cell_type": "markdown",
   "metadata": {},
   "source": [
    "### Params"
   ]
  },
  {
   "cell_type": "code",
   "execution_count": null,
   "metadata": {},
   "outputs": [],
   "source": [
    "DET_THRESHOLD = 0.35\n",
    "CLS_THRESHOLD = 0.48\n",
    "\n",
    "# Change threshold after frame\n",
    "SWITCH_FRAME = 150\n",
    "DET_THRESHOLD2 = 0.40\n",
    "CLS_THRESHOLD2 = 0.65\n",
    "\n",
    "# Lower thresholds for sideline\n",
    "DELTA_CLS = -0.07\n",
    "DELTA_DET = -0.05\n",
    "\n",
    "# Adjacency post-processing\n",
    "NMS_THRESHOLD = 0.41\n",
    "MAX_FRAME_DIST = 9\n",
    "N_TIMES = 1\n",
    "\n",
    "# View post-processing\n",
    "MIN_DIST = 4\n",
    "VIEW_THRESHOLD = 0.86  \n",
    "\n",
    "# Boxes expansion\n",
    "R = 0.22"
   ]
  },
  {
   "cell_type": "markdown",
   "metadata": {},
   "source": [
    "### Thresholding"
   ]
  },
  {
   "cell_type": "code",
   "execution_count": null,
   "metadata": {},
   "outputs": [],
   "source": [
    "df_pred_pp = df_pred.copy()\n",
    "\n",
    "df_pred_pp1 = df_pred_pp.loc[\n",
    "    (df_pred_pp.scores > DET_THRESHOLD)\n",
    "    & (df_pred_pp.frame <= SWITCH_FRAME)\n",
    "    & (df_pred_pp.view == \"Endzone\")\n",
    "]\n",
    "df_pred_pp2 = df_pred_pp.loc[\n",
    "    (df_pred_pp.scores > DET_THRESHOLD2)\n",
    "    & (df_pred_pp.frame > SWITCH_FRAME)\n",
    "    & (df_pred_pp.view == \"Endzone\")\n",
    "]\n",
    "df_pred_pp3 = df_pred_pp.loc[\n",
    "    (df_pred_pp.scores > DET_THRESHOLD - DELTA_DET)\n",
    "    & (df_pred_pp.frame <= SWITCH_FRAME)\n",
    "    & (df_pred_pp.view == \"Sideline\")\n",
    "]\n",
    "df_pred_pp4 = df_pred_pp.loc[\n",
    "    (df_pred_pp.scores > DET_THRESHOLD2 - DELTA_DET)\n",
    "    & (df_pred_pp.frame > SWITCH_FRAME)\n",
    "    & (df_pred_pp.view == \"Sideline\")\n",
    "]\n",
    "df_pred_pp = pd.concat([df_pred_pp1, df_pred_pp2, df_pred_pp3, df_pred_pp4], axis=0).reset_index(drop=True)"
   ]
  },
  {
   "cell_type": "code",
   "execution_count": null,
   "metadata": {},
   "outputs": [],
   "source": [
    "df_pred_pp_cls1 = df_pred_pp.copy()[\n",
    "    (df_pred_pp[\"pred_cls_blend\"] > CLS_THRESHOLD)\n",
    "    & (df_pred_pp.frame <= SWITCH_FRAME)\n",
    "    & (df_pred_pp.view == \"Endzone\")\n",
    "]\n",
    "df_pred_pp_cls2 = df_pred_pp.copy()[\n",
    "    (df_pred_pp[\"pred_cls_blend\"] > CLS_THRESHOLD2)\n",
    "    & (df_pred_pp.frame > SWITCH_FRAME)\n",
    "    & (df_pred_pp.view == \"Endzone\")\n",
    "]\n",
    "df_pred_pp_cls3 = df_pred_pp.copy()[\n",
    "    (df_pred_pp[\"pred_cls_blend\"] > CLS_THRESHOLD - DELTA_CLS)\n",
    "    & (df_pred_pp.frame <= SWITCH_FRAME)\n",
    "    & (df_pred_pp.view == \"Sideline\")\n",
    "]\n",
    "df_pred_pp_cls4 = df_pred_pp.copy()[\n",
    "    (df_pred_pp[\"pred_cls_blend\"] > CLS_THRESHOLD2 - DELTA_CLS)\n",
    "    & (df_pred_pp.frame > SWITCH_FRAME)\n",
    "    & (df_pred_pp.view == \"Sideline\")\n",
    "]\n",
    "df_pred_pp = pd.concat(\n",
    "    [df_pred_pp_cls1, df_pred_pp_cls2, df_pred_pp_cls3, df_pred_pp_cls4], axis=0\n",
    ").reset_index(drop=True)"
   ]
  },
  {
   "cell_type": "code",
   "execution_count": null,
   "metadata": {},
   "outputs": [],
   "source": [
    "pred_boxes_pp = get_boxes_from_df(df_pred_pp, videos)\n",
    "score = boxes_f1_score(pred_boxes_pp, gt_boxes)\n",
    "\n",
    "print(f' -> CV score is {score:.4f}')"
   ]
  },
  {
   "cell_type": "markdown",
   "metadata": {},
   "source": [
    "### Box expansion"
   ]
  },
  {
   "cell_type": "code",
   "execution_count": null,
   "metadata": {},
   "outputs": [],
   "source": [
    "df_pred_pp = expand_boxes(df_pred_pp, r=R)"
   ]
  },
  {
   "cell_type": "markdown",
   "metadata": {},
   "source": [
    "### Adjacency Post-processing"
   ]
  },
  {
   "cell_type": "code",
   "execution_count": null,
   "metadata": {
    "scrolled": true
   },
   "outputs": [],
   "source": [
    "for i in range(N_TIMES):\n",
    "    df_pred_pp = post_process_adjacency(\n",
    "        df_pred_pp,\n",
    "        threshold=THRESHOLD_IOU,\n",
    "        max_dist=MAX_DIST,\n",
    "        min_clust_size=MIN_CLUST_SIZE,\n",
    "    )"
   ]
  },
  {
   "cell_type": "code",
   "execution_count": null,
   "metadata": {},
   "outputs": [],
   "source": [
    "pred_boxes_pp = get_boxes_from_df(df_pred_pp, videos)\n",
    "score = boxes_f1_score(pred_boxes_pp, gt_boxes)\n",
    "\n",
    "print(f' -> CV score is {score:.4f}')"
   ]
  },
  {
   "cell_type": "markdown",
   "metadata": {},
   "source": [
    "### View PP"
   ]
  },
  {
   "cell_type": "code",
   "execution_count": null,
   "metadata": {},
   "outputs": [],
   "source": [
    "if MIN_DIST > 0:\n",
    "    df_pred_pp_view = post_process_view(\n",
    "        df_pred_pp, \n",
    "        min_dist=MIN_DIST,\n",
    "        threshold=VIEW_THRESHOLD,\n",
    "        cls_col=\"pred_cls_blend\",\n",
    "    )"
   ]
  },
  {
   "cell_type": "code",
   "execution_count": null,
   "metadata": {},
   "outputs": [],
   "source": [
    "pred_boxes_pp = get_boxes_from_df(df_pred_pp_view, videos)\n",
    "score = boxes_f1_score(pred_boxes_pp, gt_boxes)\n",
    "\n",
    "print(f' -> CV score is {score:.4f}')"
   ]
  }
 ],
 "metadata": {
  "kernelspec": {
   "display_name": "venv",
   "language": "python",
   "name": "venv"
  },
  "language_info": {
   "codemirror_mode": {
    "name": "ipython",
    "version": 3
   },
   "file_extension": ".py",
   "mimetype": "text/x-python",
   "name": "python",
   "nbconvert_exporter": "python",
   "pygments_lexer": "ipython3",
   "version": "3.8.6"
  }
 },
 "nbformat": 4,
 "nbformat_minor": 4
}
