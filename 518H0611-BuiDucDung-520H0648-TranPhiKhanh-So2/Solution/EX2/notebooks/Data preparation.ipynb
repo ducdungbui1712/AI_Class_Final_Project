{
 "cells": [
  {
   "cell_type": "code",
   "execution_count": null,
   "metadata": {},
   "outputs": [],
   "source": [
    "%load_ext autoreload\n",
    "%autoreload 2"
   ]
  },
  {
   "cell_type": "code",
   "execution_count": null,
   "metadata": {},
   "outputs": [],
   "source": [
    "cd ../src/"
   ]
  },
  {
   "cell_type": "markdown",
   "metadata": {},
   "source": [
    "## Imports"
   ]
  },
  {
   "cell_type": "code",
   "execution_count": null,
   "metadata": {},
   "outputs": [],
   "source": [
    "import os\n",
    "import re\n",
    "import cv2\n",
    "import time\n",
    "import imageio\n",
    "import numpy as np\n",
    "import pandas as pd\n",
    "import matplotlib.pyplot as plt\n",
    "\n",
    "from tqdm.notebook import tqdm\n",
    "from skimage.transform import resize"
   ]
  },
  {
   "cell_type": "code",
   "execution_count": null,
   "metadata": {},
   "outputs": [],
   "source": [
    "from params import *"
   ]
  },
  {
   "cell_type": "markdown",
   "metadata": {},
   "source": [
    "## Dataframe"
   ]
  },
  {
   "cell_type": "markdown",
   "metadata": {},
   "source": [
    "### Load"
   ]
  },
  {
   "cell_type": "code",
   "execution_count": null,
   "metadata": {},
   "outputs": [],
   "source": [
    "video_labels = pd.read_csv(DATA_PATH + 'train_labels.csv').fillna(0)"
   ]
  },
  {
   "cell_type": "markdown",
   "metadata": {},
   "source": [
    "### Propagate labels"
   ]
  },
  {
   "cell_type": "code",
   "execution_count": null,
   "metadata": {},
   "outputs": [],
   "source": [
    "EXTENDED = np.array([-4, -3, -2, -1, 1, 2, 3, 4])"
   ]
  },
  {
   "cell_type": "code",
   "execution_count": null,
   "metadata": {},
   "outputs": [],
   "source": [
    "video_labels['extended_impact'] = video_labels['impact']"
   ]
  },
  {
   "cell_type": "code",
   "execution_count": null,
   "metadata": {
    "scrolled": true
   },
   "outputs": [],
   "source": [
    "video_labels_with_impact = video_labels[video_labels['impact'] > 0]\n",
    "\n",
    "for row in tqdm(video_labels_with_impact[['video', 'frame', 'label']].values):\n",
    "    frames = EXTENDED + row[1]\n",
    "    video_labels.loc[(video_labels['video'] == row[0]) & \n",
    "                     (video_labels['frame'].isin(frames))& \n",
    "                     (video_labels['label'] == row[2]), 'extended_impact'] = 1\n",
    "    \n",
    "#     break"
   ]
  },
  {
   "cell_type": "code",
   "execution_count": null,
   "metadata": {},
   "outputs": [],
   "source": [
    "EXTENDED = np.array([-4, -3, -2, -1, 0, 1, 2, 3, 4])\n",
    "\n",
    "for impact_type in video_labels['impactType'].unique()[1:]:\n",
    "    df_impact_type = video_labels[video_labels['impactType'] == impact_type]\n",
    "\n",
    "    video_labels[f\"extended_{impact_type}\"] = 0\n",
    "\n",
    "    for row in tqdm(df_impact_type[['video', 'frame', 'label']].values):\n",
    "        frames = EXTENDED + row[1]\n",
    "        video_labels.loc[(video_labels['video'] == row[0]) & \n",
    "                     (video_labels['frame'].isin(frames))& \n",
    "                     (video_labels['label'] == row[2]), f\"extended_{impact_type}\"] = 1"
   ]
  },
  {
   "cell_type": "markdown",
   "metadata": {},
   "source": [
    "### Adapt cols"
   ]
  },
  {
   "cell_type": "code",
   "execution_count": null,
   "metadata": {},
   "outputs": [],
   "source": [
    "video_labels['image_name'] = (video_labels['video'].str.replace('.mp4', '') + '_' +\n",
    "                              video_labels['frame'].apply(lambda x: f'{x:04d}') + '.png')"
   ]
  },
  {
   "cell_type": "code",
   "execution_count": null,
   "metadata": {},
   "outputs": [],
   "source": [
    "coords = {\"left\": \"x\", 'top': \"y\", 'width': \"w\", 'height':\"h\"}\n",
    "video_labels = video_labels.rename(columns=coords)"
   ]
  },
  {
   "cell_type": "code",
   "execution_count": null,
   "metadata": {},
   "outputs": [],
   "source": [
    "video_labels['impact'] = video_labels['impact'].astype(int) + 1"
   ]
  },
  {
   "cell_type": "markdown",
   "metadata": {},
   "source": [
    "### Truth : Impact visible & confident"
   ]
  },
  {
   "cell_type": "code",
   "execution_count": null,
   "metadata": {},
   "outputs": [],
   "source": [
    "video_labels = pd.read_csv(DATA_PATH + 'df_train.csv')\n",
    "\n",
    "video_labels['truth'] = (video_labels['impact'] == 1) & (video_labels['confidence'] > 1) & (video_labels['visibility'] > 0) \n",
    "video_labels['extended_truth'] = video_labels['truth'].astype(int)\n",
    "video_labels['truth'] = video_labels['truth'].astype(int)"
   ]
  },
  {
   "cell_type": "code",
   "execution_count": null,
   "metadata": {},
   "outputs": [],
   "source": [
    "EXTENDED = np.array([-4, -3, -2, -1, 1, 2, 3, 4])\n",
    "\n",
    "video_labels_with_impact = video_labels[video_labels['truth'] > 0]\n",
    "\n",
    "for row in tqdm(video_labels_with_impact[['video', 'frame', 'label']].values):\n",
    "    frames = EXTENDED + row[1]\n",
    "    video_labels.loc[(video_labels['video'] == row[0]) & \n",
    "                     (video_labels['frame'].isin(frames))& \n",
    "                     (video_labels['label'] == row[2]), 'extended_truth'] = 1\n",
    "    \n",
    "#     break"
   ]
  },
  {
   "cell_type": "code",
   "execution_count": null,
   "metadata": {},
   "outputs": [],
   "source": [
    "video_labels.head()"
   ]
  },
  {
   "cell_type": "markdown",
   "metadata": {},
   "source": [
    "### Save"
   ]
  },
  {
   "cell_type": "code",
   "execution_count": null,
   "metadata": {},
   "outputs": [],
   "source": [
    "video_labels.to_csv(DATA_PATH + 'df_train.csv', index=False)"
   ]
  },
  {
   "cell_type": "markdown",
   "metadata": {},
   "source": [
    "## Images"
   ]
  },
  {
   "cell_type": "code",
   "execution_count": null,
   "metadata": {},
   "outputs": [],
   "source": [
    "video_labels = pd.read_csv(DATA_PATH + 'df_train.csv')"
   ]
  },
  {
   "cell_type": "code",
   "execution_count": null,
   "metadata": {},
   "outputs": [],
   "source": [
    "def video_to_images(video_name, video_labels, video_dir=\"\", size=0, out_dir=\"\", only_with_impact=False):\n",
    "    video_path=f\"{video_dir}{video_name}\"\n",
    "    assert os.path.isfile(video_path)\n",
    "    vid = imageio.get_reader(video_path,  'ffmpeg')\n",
    "    \n",
    "    if only_with_impact:\n",
    "        boxes_all = video_labels.query(\"video == @video_name\")\n",
    "        print(video_path, boxes_all[boxes_all.impact > 1.0].shape[0])\n",
    "    else:\n",
    "        print(video_path)\n",
    "        \n",
    "    for frame in video_df['frame'].unique():\n",
    "\n",
    "        try:\n",
    "            image = vid.get_data(max(0, frame - 1))\n",
    "        except IndexError:\n",
    "            print(f'Index error at frame {frame}')\n",
    "            pass                        \n",
    "        \n",
    "        img_name = f\"{video_name[:-4]}_{frame:04d}.png\"\n",
    "        \n",
    "        if os.path.isfile(out_dir + img_name):\n",
    "            break # frame already found\n",
    "\n",
    "        if size:\n",
    "            image = resize(image, (size, size)) * 255\n",
    "\n",
    "        if only_with_impact:\n",
    "            boxes = video_labels.query(\"video == @video_name and frame == @frame\")\n",
    "            boxes_with_impact = boxes[boxes.impact > 1.0]\n",
    "            if boxes_with_impact.shape[0] == 0:\n",
    "                continue\n",
    "\n",
    "        cv2.imwrite(out_dir + img_name, image)\n",
    "\n",
    "    return image"
   ]
  },
  {
   "cell_type": "code",
   "execution_count": null,
   "metadata": {
    "scrolled": true
   },
   "outputs": [],
   "source": [
    "for video_name in tqdm(video_labels.video.unique()):\n",
    "    video_df = video_labels[video_labels[\"video\"] == video_name]\n",
    "    img = video_to_images(\n",
    "        video_name, \n",
    "        video_df, \n",
    "        video_dir=TRAIN_VID_PATH, \n",
    "        out_dir=IMG_PATH_F, \n",
    "    )"
   ]
  }
 ],
 "metadata": {
  "kernelspec": {
   "display_name": "venv",
   "language": "python",
   "name": "venv"
  },
  "language_info": {
   "codemirror_mode": {
    "name": "ipython",
    "version": 3
   },
   "file_extension": ".py",
   "mimetype": "text/x-python",
   "name": "python",
   "nbconvert_exporter": "python",
   "pygments_lexer": "ipython3",
   "version": "3.8.6"
  }
 },
 "nbformat": 4,
 "nbformat_minor": 4
}
