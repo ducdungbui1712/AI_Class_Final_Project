{
 "cells": [
  {
   "cell_type": "code",
   "execution_count": null,
   "metadata": {},
   "outputs": [],
   "source": [
    "%load_ext autoreload\n",
    "%autoreload 2"
   ]
  },
  {
   "cell_type": "code",
   "execution_count": null,
   "metadata": {},
   "outputs": [],
   "source": [
    "cd ../src/"
   ]
  },
  {
   "cell_type": "markdown",
   "metadata": {},
   "source": [
    "## Imports"
   ]
  },
  {
   "cell_type": "code",
   "execution_count": null,
   "metadata": {},
   "outputs": [],
   "source": [
    "import os\n",
    "import re\n",
    "import cv2\n",
    "import time\n",
    "import torch\n",
    "import imageio\n",
    "import warnings\n",
    "import numpy as np\n",
    "import pandas as pd\n",
    "import seaborn as sns\n",
    "import matplotlib.pyplot as plt\n",
    "\n",
    "from collections import Counter\n",
    "from tqdm.notebook import tqdm\n",
    "from skimage.transform import resize"
   ]
  },
  {
   "cell_type": "code",
   "execution_count": null,
   "metadata": {},
   "outputs": [],
   "source": [
    "from params import *"
   ]
  },
  {
   "cell_type": "markdown",
   "metadata": {},
   "source": [
    "## Data"
   ]
  },
  {
   "cell_type": "code",
   "execution_count": null,
   "metadata": {},
   "outputs": [],
   "source": [
    "PATH = CROP_PATH_3D\n",
    "DF_PATH = 'df_train_3d.csv'"
   ]
  },
  {
   "cell_type": "markdown",
   "metadata": {},
   "source": [
    "### Load"
   ]
  },
  {
   "cell_type": "code",
   "execution_count": null,
   "metadata": {},
   "outputs": [],
   "source": [
    "df_train = pd.read_csv(DATA_PATH + DF_PATH)"
   ]
  },
  {
   "cell_type": "code",
   "execution_count": null,
   "metadata": {},
   "outputs": [],
   "source": [
    "df_train.dropna(inplace=True)"
   ]
  },
  {
   "cell_type": "code",
   "execution_count": null,
   "metadata": {},
   "outputs": [],
   "source": [
    "frame_impacts = df_train[[\"image_name\", \"extended_impact\"]].groupby('image_name').max().reset_index()\n",
    "frame_impacts = frame_impacts.rename(columns={\"extended_impact\": \"frame_has_impact\"})\n",
    "df_train = df_train.merge(frame_impacts, on=\"image_name\")"
   ]
  },
  {
   "cell_type": "markdown",
   "metadata": {},
   "source": [
    "###  Aux target"
   ]
  },
  {
   "cell_type": "code",
   "execution_count": null,
   "metadata": {},
   "outputs": [],
   "source": [
    "# Single-label approach\n",
    "aux_label = np.zeros((len(df_train)))\n",
    "\n",
    "aux_label[df_train['extended_Helmet'] == 1] = 1\n",
    "aux_label[df_train['extended_Shoulder'] == 1] = 2\n",
    "aux_label[df_train['extended_shoulder'] == 1] = 2\n",
    "aux_label[df_train['extended_Body'] == 1] = 2\n",
    "aux_label[df_train['extended_Hand'] == 1] = 2\n",
    "aux_label[df_train['extended_Ground'] == 1] = 3\n",
    "\n",
    "df_train['aux_target'] = list(aux_label)"
   ]
  },
  {
   "cell_type": "markdown",
   "metadata": {},
   "source": [
    "### Folds"
   ]
  },
  {
   "cell_type": "code",
   "execution_count": null,
   "metadata": {},
   "outputs": [],
   "source": [
    "folds = pd.read_csv(OUT_DIR + \"folds.csv\")\n",
    "df_train = df_train.merge(folds, on=\"video\")"
   ]
  },
  {
   "cell_type": "markdown",
   "metadata": {},
   "source": [
    "## Dataset"
   ]
  },
  {
   "cell_type": "code",
   "execution_count": null,
   "metadata": {},
   "outputs": [],
   "source": [
    "from data.dataset import NFLDatasetCls3D\n",
    "from data.transforms import get_transfos_cls"
   ]
  },
  {
   "cell_type": "code",
   "execution_count": null,
   "metadata": {
    "scrolled": true
   },
   "outputs": [],
   "source": [
    "dataset = NFLDatasetCls3D(\n",
    "    df_train.copy(),\n",
    "    root=PATH,\n",
    "    target_name='extended_impact',\n",
    "    visualize=True\n",
    ")"
   ]
  },
  {
   "cell_type": "code",
   "execution_count": null,
   "metadata": {},
   "outputs": [],
   "source": [
    "# for i in tqdm(range(len(dataset))):\n",
    "#     image, y, y_aux = dataset[i]\n",
    "#     assert image.shape == (9, 64, 64, 3)A"
   ]
  },
  {
   "cell_type": "code",
   "execution_count": null,
   "metadata": {},
   "outputs": [],
   "source": [
    "df_train['image_name'].unique()"
   ]
  },
  {
   "cell_type": "code",
   "execution_count": null,
   "metadata": {},
   "outputs": [],
   "source": [
    "image, y, y_aux = dataset[0]"
   ]
  },
  {
   "cell_type": "code",
   "execution_count": null,
   "metadata": {
    "scrolled": false
   },
   "outputs": [],
   "source": [
    "i = np.random.choice(len(dataset))\n",
    "\n",
    "for i in np.random.choice(len(dataset), 10):\n",
    "    image, y, y_aux = dataset[i]\n",
    "    \n",
    "    if y:\n",
    "        plt.figure(figsize=(15, 15))\n",
    "        for i, img in enumerate(image):\n",
    "            if image.shape[0] == 9:\n",
    "                plt.subplot(3, 3, i+1)\n",
    "            else:\n",
    "                plt.subplot(4, 5, i+1)\n",
    "            plt.imshow(img)\n",
    "            plt.axis(False)\n",
    "        plt.show()"
   ]
  },
  {
   "cell_type": "markdown",
   "metadata": {},
   "source": [
    "## Model"
   ]
  },
  {
   "cell_type": "code",
   "execution_count": null,
   "metadata": {},
   "outputs": [],
   "source": [
    "from model_zoo.models_cls_3d import get_model_cls_3d"
   ]
  },
  {
   "cell_type": "code",
   "execution_count": null,
   "metadata": {
    "scrolled": false
   },
   "outputs": [],
   "source": [
    "# model = get_model_cls_3d('i3d', num_classes=1, num_classes_aux=5)\n",
    "model = get_model_cls_3d('slowonly', num_classes=1, num_classes_aux=5)\n",
    "# model = get_model_cls_3d('resnet50', num_classes=1, num_classes_aux=0)"
   ]
  },
  {
   "cell_type": "code",
   "execution_count": null,
   "metadata": {},
   "outputs": [],
   "source": [
    "x = torch.randn(1, 3, 9, 64, 64)"
   ]
  },
  {
   "cell_type": "code",
   "execution_count": null,
   "metadata": {},
   "outputs": [],
   "source": [
    "model(x)"
   ]
  },
  {
   "cell_type": "markdown",
   "metadata": {},
   "source": [
    "## Training"
   ]
  },
  {
   "cell_type": "code",
   "execution_count": null,
   "metadata": {},
   "outputs": [],
   "source": [
    "from training.main_cls_3d import k_fold_cls_3d"
   ]
  },
  {
   "cell_type": "code",
   "execution_count": null,
   "metadata": {},
   "outputs": [],
   "source": [
    "from utils.logger import prepare_log_folder, save_config, create_logger"
   ]
  },
  {
   "cell_type": "code",
   "execution_count": null,
   "metadata": {},
   "outputs": [],
   "source": [
    "BATCH_SIZES = {\n",
    "    \"i3d\": 32,\n",
    "    \"slowfast\": 64,\n",
    "    \"slowonly\": 32,\n",
    "    \"resnet18\": 128,\n",
    "    \"resnet34\": 64,\n",
    "    \"resnet50\": 32,\n",
    "}"
   ]
  },
  {
   "cell_type": "code",
   "execution_count": null,
   "metadata": {},
   "outputs": [],
   "source": [
    "class Config:\n",
    "    \"\"\"\n",
    "    Parameters used for training\n",
    "    \"\"\"\n",
    "    # General\n",
    "    seed = 42\n",
    "    verbose = 1\n",
    "    img_path = PATH\n",
    "    device = \"cuda\" if torch.cuda.is_available() else \"cpu\"\n",
    "    save_weights = True\n",
    "    \n",
    "    # Target\n",
    "#     target_name = f'impact_{STRIDE}_{N_FRAMES}'\n",
    "    target_name = \"extended_impact\"\n",
    "\n",
    "    # k-fold\n",
    "    k = 5\n",
    "    random_state = 0\n",
    "    selected_folds = [0, 1, 2, 3, 4]\n",
    "\n",
    "    # Model\n",
    "    name = \"i3d\"  #'slowonly', \"slowfast\", \"resnet18\", \"resnet34\"\n",
    "    num_classes = 1\n",
    "    \n",
    "    aux_mode = \"softmax\"\n",
    "    num_classes_aux = 0  # 4\n",
    "\n",
    "    # Training       \n",
    "    batch_size = BATCH_SIZES[name]\n",
    "    samples_per_player = 4\n",
    "    optimizer = \"Adam\"\n",
    "    \n",
    "    acc_steps = 1\n",
    "    epochs = 20 if samples_per_player else 4\n",
    "    swa_first_epoch = 15\n",
    "\n",
    "    lr = 5e-4  # 5e-4 / 1e-3\n",
    "    warmup_prop = 0.05\n",
    "    val_bs = batch_size * 2\n",
    "    \n",
    "    first_epoch_eval = 20"
   ]
  },
  {
   "cell_type": "code",
   "execution_count": null,
   "metadata": {},
   "outputs": [],
   "source": [
    "DEBUG = True\n",
    "log_folder = None"
   ]
  },
  {
   "cell_type": "code",
   "execution_count": null,
   "metadata": {
    "scrolled": false
   },
   "outputs": [],
   "source": [
    "if not DEBUG:\n",
    "    log_folder = prepare_log_folder(LOG_PATH_CLS_3D)\n",
    "    print(f'Logging results to {log_folder}')\n",
    "    config_df = save_config(Config, log_folder + 'config.json')\n",
    "    create_logger(directory=log_folder, name=\"logs.txt\")\n",
    "    \n",
    "    warnings.filterwarnings(\"ignore\")\n",
    "\n",
    "pred_oof = k_fold_cls_3d(\n",
    "    Config,\n",
    "    df_train,\n",
    "    log_folder=log_folder\n",
    ")"
   ]
  }
 ],
 "metadata": {
  "kernelspec": {
   "display_name": "venv",
   "language": "python",
   "name": "venv"
  },
  "language_info": {
   "codemirror_mode": {
    "name": "ipython",
    "version": 3
   },
   "file_extension": ".py",
   "mimetype": "text/x-python",
   "name": "python",
   "nbconvert_exporter": "python",
   "pygments_lexer": "ipython3",
   "version": "3.8.6"
  }
 },
 "nbformat": 4,
 "nbformat_minor": 4
}
